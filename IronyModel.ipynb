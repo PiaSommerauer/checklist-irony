{
 "cells": [
  {
   "cell_type": "markdown",
   "id": "273d005b-2a63-4c49-b85d-a80743b547b6",
   "metadata": {},
   "source": [
    "# Irony detection model\n",
    "\n",
    "\n",
    "* Irony detection dataset for English and Dutch: van Hee et al. (2016): https://aclanthology.org/L16-1283.pdf\n",
    "\n",
    "* Bias in irony detection models: Maladry et al (2023): https://aclanthology.org/2023.wassa-1.28.pdf\n",
    "\n",
    "\n",
    "* Irony detection model trained on the English data: https://huggingface.co/cardiffnlp/roberta-base-irony (paper: https://aclanthology.org/2022.emnlp-demos.5/)\n",
    "\n",
    "\n",
    "\n"
   ]
  },
  {
   "cell_type": "code",
   "execution_count": 5,
   "id": "67c84c2b-eaaa-4a7f-9156-017fad0e2c0e",
   "metadata": {},
   "outputs": [],
   "source": [
    "from transformers import pipeline\n",
    "from transformers import AutoTokenizer, AutoModelForSequenceClassification"
   ]
  },
  {
   "cell_type": "code",
   "execution_count": 6,
   "id": "d34fa8ce-6a61-46ef-8460-f999e3fa6bbe",
   "metadata": {},
   "outputs": [
    {
     "name": "stderr",
     "output_type": "stream",
     "text": [
      "Device set to use cpu\n"
     ]
    }
   ],
   "source": [
    "pipe = pipeline(\"text-classification\", model = \"cardiffnlp/roberta-base-irony\")"
   ]
  },
  {
   "cell_type": "code",
   "execution_count": 9,
   "id": "10561633-3cfd-4054-bd35-e262590b1ff5",
   "metadata": {},
   "outputs": [
    {
     "data": {
      "text/plain": [
       "[{'label': 'non_irony', 'score': 0.9993706345558167}]"
      ]
     },
     "execution_count": 9,
     "metadata": {},
     "output_type": "execute_result"
    }
   ],
   "source": [
    "text = \"My name is Pia.\"\n",
    "pipe(text)"
   ]
  },
  {
   "cell_type": "code",
   "execution_count": 10,
   "id": "d1bba59b-4bbe-433b-9db5-b4be7a5c3108",
   "metadata": {},
   "outputs": [
    {
     "data": {
      "text/plain": [
       "[{'label': 'irony', 'score': 0.9995538592338562}]"
      ]
     },
     "execution_count": 10,
     "metadata": {},
     "output_type": "execute_result"
    }
   ],
   "source": [
    "text = \"This was really easy.\"\n",
    "pipe(text)"
   ]
  },
  {
   "cell_type": "code",
   "execution_count": 14,
   "id": "c5dfd53b-93e3-4f28-8d54-6327638bbd05",
   "metadata": {
    "collapsed": true,
    "jupyter": {
     "outputs_hidden": true
    }
   },
   "outputs": [
    {
     "data": {
      "text/plain": [
       "[{'label': 'irony', 'score': 0.9790634512901306}]"
      ]
     },
     "execution_count": 14,
     "metadata": {},
     "output_type": "execute_result"
    }
   ],
   "source": [
    "text = \"This was really easy :-)\"\n",
    "pipe(text)"
   ]
  },
  {
   "cell_type": "code",
   "execution_count": 15,
   "id": "f0be44bc-5504-4f20-8656-2a3c3d0446ea",
   "metadata": {},
   "outputs": [
    {
     "data": {
      "text/plain": [
       "[{'label': 'irony', 'score': 0.9997959733009338}]"
      ]
     },
     "execution_count": 15,
     "metadata": {},
     "output_type": "execute_result"
    }
   ],
   "source": [
    "text = \"I failed my exam. What an amazing day!\"\n",
    "pipe(text)"
   ]
  },
  {
   "cell_type": "code",
   "execution_count": 16,
   "id": "b90a23f0-28bd-4559-85b2-0daf716e872e",
   "metadata": {},
   "outputs": [
    {
     "data": {
      "text/plain": [
       "[{'label': 'irony', 'score': 0.9997755885124207}]"
      ]
     },
     "execution_count": 16,
     "metadata": {},
     "output_type": "execute_result"
    }
   ],
   "source": [
    "text = \"I passed my exam. What an amazing day!\"\n",
    "pipe(text)"
   ]
  },
  {
   "cell_type": "code",
   "execution_count": 17,
   "id": "e7f26d27-8cb9-46b9-ac86-eee686cf4b17",
   "metadata": {},
   "outputs": [
    {
     "data": {
      "text/plain": [
       "[{'label': 'irony', 'score': 0.9997623562812805}]"
      ]
     },
     "execution_count": 17,
     "metadata": {},
     "output_type": "execute_result"
    }
   ],
   "source": [
    "text = \"What an amazing day!\"\n",
    "pipe(text)"
   ]
  },
  {
   "cell_type": "code",
   "execution_count": null,
   "id": "b79a9115-8e50-4a79-af41-8cde583862ad",
   "metadata": {},
   "outputs": [],
   "source": []
  }
 ],
 "metadata": {
  "kernelspec": {
   "display_name": "Python 3 (ipykernel)",
   "language": "python",
   "name": "python3"
  },
  "language_info": {
   "codemirror_mode": {
    "name": "ipython",
    "version": 3
   },
   "file_extension": ".py",
   "mimetype": "text/x-python",
   "name": "python",
   "nbconvert_exporter": "python",
   "pygments_lexer": "ipython3",
   "version": "3.12.9"
  }
 },
 "nbformat": 4,
 "nbformat_minor": 5
}
